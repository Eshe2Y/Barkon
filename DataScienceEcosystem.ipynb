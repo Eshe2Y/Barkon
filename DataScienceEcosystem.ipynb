{
 "cells": [
  {
   "cell_type": "markdown",
   "id": "2afc6d19-d314-4bc1-a8d8-8dc3949dd51f",
   "metadata": {},
   "source": [
    "# Data Science Tools and Ecosystem"
   ]
  },
  {
   "cell_type": "markdown",
   "id": "b0826ebc-9ea7-4716-b4db-282c54f527ea",
   "metadata": {},
   "source": [
    "In this notebook, Data Science Tools and Ecosystem are summarized."
   ]
  },
  {
   "cell_type": "markdown",
   "id": "0945d42d-b113-440b-ba2a-3e55473c1a41",
   "metadata": {},
   "source": [
    "Some of the popular languages that Data Scientists use are:"
   ]
  },
  {
   "cell_type": "markdown",
   "id": "1f8ffbc1-141d-4adc-a6a3-df49c181ff67",
   "metadata": {},
   "source": [
    "1. Python\n",
    "2. R\n",
    "3. SQL\n",
    "4. julia"
   ]
  },
  {
   "cell_type": "markdown",
   "id": "bd1750eb-595d-4742-9f66-6a25d18e7a14",
   "metadata": {},
   "source": [
    "Some of the commonly used libraries used by Data Scientists include:"
   ]
  },
  {
   "cell_type": "markdown",
   "id": "17f133ef-28ed-4822-b194-dc30a845755f",
   "metadata": {},
   "source": [
    "1. NumPy\n",
    "2. Pandas\n",
    "3. MAtplotlib\n",
    "4. TensorFlow"
   ]
  },
  {
   "cell_type": "markdown",
   "id": "5e39d2f7-b414-4375-a00e-95b760ca1607",
   "metadata": {},
   "source": [
    "# Data Science Tools\n",
    "\n",
    "| Data Science Tools |\n",
    "| ------------------ |\n",
    "|       R            |\n",
    "|  Jupyter Notebook  |\n",
    "|     Python         |"
   ]
  },
  {
   "cell_type": "markdown",
   "id": "ae0ed559-69be-4663-8ab5-ed55929cb8cb",
   "metadata": {},
   "source": [
    "### Below are a few examples of evaluating arithmetic expressions in Python"
   ]
  },
  {
   "cell_type": "code",
   "execution_count": 7,
   "id": "b1651747-b293-4fbd-a131-751f057c827b",
   "metadata": {},
   "outputs": [
    {
     "data": {
      "text/plain": [
       "17"
      ]
     },
     "execution_count": 7,
     "metadata": {},
     "output_type": "execute_result"
    }
   ],
   "source": [
    "# This is a simple arithmetic expression to multiply then add integers \n",
    "( 3 * 4 ) + 5"
   ]
  },
  {
   "cell_type": "code",
   "execution_count": 8,
   "id": "d021bff3-2015-4183-b3c1-2f0e89b8c4e6",
   "metadata": {},
   "outputs": [
    {
     "data": {
      "text/plain": [
       "3.3333333333333335"
      ]
     },
     "execution_count": 8,
     "metadata": {},
     "output_type": "execute_result"
    }
   ],
   "source": [
    "# This will convert 200 minutes to hours by diving by 60\n",
    "minutes = 200\n",
    "hours = minutes / 60\n",
    "hours"
   ]
  },
  {
   "cell_type": "markdown",
   "id": "3216d84c-7fa5-46bf-b3a2-83577a63197a",
   "metadata": {},
   "source": [
    "**Objectives**"
   ]
  },
  {
   "cell_type": "markdown",
   "id": "51280d91-94a7-4cd5-9517-3d11262602dd",
   "metadata": {},
   "source": [
    "* The most popular data science languages\n",
    "* Commonly used libraries\n",
    "* Data science tools\n",
    "* Arithmetic expressions"
   ]
  },
  {
   "cell_type": "markdown",
   "id": "5fba5d34-847b-4cf1-9da7-73a96cf8dcd1",
   "metadata": {},
   "source": [
    "## Lakshmi Holla, Niveditha Pandith\n",
    "Eshetu Yohanes Alem"
   ]
  },
  {
   "cell_type": "code",
   "execution_count": null,
   "id": "5dd1eccc-bce4-4958-b788-7fe735d029e1",
   "metadata": {},
   "outputs": [],
   "source": []
  }
 ],
 "metadata": {
  "kernelspec": {
   "display_name": "Python 3 (ipykernel)",
   "language": "python",
   "name": "python3"
  },
  "language_info": {
   "codemirror_mode": {
    "name": "ipython",
    "version": 3
   },
   "file_extension": ".py",
   "mimetype": "text/x-python",
   "name": "python",
   "nbconvert_exporter": "python",
   "pygments_lexer": "ipython3",
   "version": "3.11.9"
  }
 },
 "nbformat": 4,
 "nbformat_minor": 5
}
